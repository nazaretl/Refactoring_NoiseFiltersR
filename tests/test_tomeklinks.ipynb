{
 "cells": [
  {
   "cell_type": "code",
   "execution_count": 21,
   "metadata": {},
   "outputs": [],
   "source": [
    "import pandas as pd\n",
    "import numpy as np\n",
    "import matplotlib.pyplot as plt\n",
    "from sklearn.neighbors import NearestNeighbors"
   ]
  },
  {
   "cell_type": "code",
   "execution_count": 43,
   "metadata": {},
   "outputs": [],
   "source": [
    "#from Lusi's codes\n",
    "def getData(df):\n",
    "    X = df.iloc[:, :-1]\n",
    "    y = df.iloc[:, -1] #assume last column is class\n",
    "    return X,y\n",
    "\n",
    "def tomeklinks(df, delete='major'):\n",
    "    X,y = getData(df)\n",
    "    dfclean = df.copy()\n",
    "    class_count = y.value_counts()\n",
    "    #make sure there are only 2 classes\n",
    "    if len(class_count) != 2:\n",
    "        print(f\"only work on data in 2 classes. found {len(class_count)} classes instead\")\n",
    "        return df,[]\n",
    "    major,minor = class_count.index\n",
    "    #return if balanced data but delete set to \"major\"\n",
    "    if class_count[major] == class_count[minor] and delete == 'major':\n",
    "        print('balanced data so no cleaning is performed. consider setting delete to \"both\".')\n",
    "        return df,[]\n",
    "\n",
    "    #find tomeklinks\n",
    "    nns = NearestNeighbors(n_neighbors=1).fit(X,y).kneighbors()[1]\n",
    "    dictnn = {}\n",
    "    links = []\n",
    "    for i in range(len(nns)):\n",
    "        nn = nns[i][0]\n",
    "        if y[i] == y[nn]:\n",
    "            continue\n",
    "        if i in dictnn and nn == dictnn[i]:\n",
    "            links.append((i,nn))\n",
    "        dictnn[nn] = i\n",
    "    # drop tomeklinks\n",
    "    if delete == 'major':\n",
    "        for p1,p2 in links:\n",
    "            if y[p1] == major:\n",
    "                pmajor = p1\n",
    "            else:\n",
    "                pmajor = p2\n",
    "            dfclean.drop(df.index[pmajor], inplace=True)\n",
    "    elif delete == 'both':\n",
    "        for p1,p2 in links:\n",
    "            dfclean.drop([df.index[p1],df.index[p2]], inplace=True)\n",
    "    else:\n",
    "        print('invalid deletion strategy. choose from \"major\" or \"both\"')\n",
    "        return df,links\n",
    "    \n",
    "    return dfclean,links"
   ]
  },
  {
   "cell_type": "code",
   "execution_count": 47,
   "metadata": {},
   "outputs": [
    {
     "name": "stdout",
     "output_type": "stream",
     "text": [
      "[(10, 0), (17, 5)]\n"
     ]
    }
   ],
   "source": [
    "np.random.seed(0)\n",
    "df1 = pd.DataFrame(np.random.randint(0,70,size=(8, 2)))\n",
    "df1['label'] = [0 for _ in range(len(df1))]\n",
    "df2 = pd.DataFrame(np.random.randint(40,100,size=(15, 2)))\n",
    "df2['label'] = [1 for _ in range(len(df2))]\n",
    "dftot = pd.concat([df1,df2], ignore_index=True)\n",
    "dfcleaned,links = tomeklinks(dftot)\n",
    "print(links)"
   ]
  },
  {
   "cell_type": "code",
   "execution_count": 48,
   "metadata": {},
   "outputs": [
    {
     "name": "stdout",
     "output_type": "stream",
     "text": [
      "[(10, 0), (17, 5)]\n"
     ]
    }
   ],
   "source": [
    "dfcle_both,links_both = tomeklinks(dftot,delete='both')\n",
    "print(links_both)"
   ]
  },
  {
   "cell_type": "code",
   "execution_count": 49,
   "metadata": {},
   "outputs": [
    {
     "data": {
      "image/png": "[encoded data removed]",
      "text/plain": [
       "<Figure size 640x480 with 3 Axes>"
      ]
     },
     "metadata": {},
     "output_type": "display_data"
    }
   ],
   "source": [
    "fig,(ax1,ax2,ax3) = plt.subplots(1,3)\n",
    "ax1.scatter(dftot.iloc[:,0],dftot.iloc[:,1],c=dftot.iloc[:,-1])\n",
    "ax2.scatter(dfcleaned.iloc[:,0],dfcleaned.iloc[:,1],c=dfcleaned.iloc[:,-1])\n",
    "ax3.scatter(dfcle_both.iloc[:,0],dfcle_both.iloc[:,1],c=dfcle_both.iloc[:,-1])\n",
    "plt.show()"
   ]
  },
  {
   "cell_type": "markdown",
   "metadata": {},
   "source": [
    "print('hi')"
   ]
  },
  {
   "cell_type": "code",
   "execution_count": null,
   "metadata": {},
   "outputs": [],
   "source": []
  }
 ],
 "metadata": {
  "kernelspec": {
   "display_name": "Python 3 (ipykernel)",
   "language": "python",
   "name": "python3"
  },
  "language_info": {
   "codemirror_mode": {
    "name": "ipython",
    "version": 3
   },
   "file_extension": ".py",
   "mimetype": "text/x-python",
   "name": "python",
   "nbconvert_exporter": "python",
   "pygments_lexer": "ipython3",
   "version": "3.9.13"
  }
 },
 "nbformat": 4,
 "nbformat_minor": 5
}
