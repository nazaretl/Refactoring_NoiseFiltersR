{
 "cells": [
  {
   "cell_type": "code",
   "execution_count": 14,
   "id": "3b9a8cf9-3115-4110-8324-8c22e22b5160",
   "metadata": {},
   "outputs": [],
   "source": [
    "import pandas as pd\n",
    "\n",
    "from src.utils import add_random_noise\n",
    "\n",
    "import sys\n",
    "sys.path.append('src/filters/')\n",
    "from ENN import ENN\n"
   ]
  },
  {
   "cell_type": "code",
   "execution_count": 15,
   "id": "2643fbf5-4a17-4956-a68d-f8b83fdb7681",
   "metadata": {},
   "outputs": [
    {
     "name": "stdout",
     "output_type": "stream",
     "text": [
      "The ENN filter has accuracy of 0.967 on the Iris dataset with 20% of noise.\n"
     ]
    }
   ],
   "source": [
    "# read in the Iris dataset\n",
    "df = pd.read_csv('https://raw.githubusercontent.com/mwaskom/seaborn-data/master/iris.csv')\n",
    "# define noise level if the should be introduced manually\n",
    "noise_level = 0.2\n",
    "\n",
    "X, y = df.iloc[:,:-1], df.iloc[:,-1]\n",
    "# add random noise to the labels\n",
    "y_noisy = add_random_noise(y,noise_level = noise_level)\n",
    "\n",
    "df_noisy = df.copy()\n",
    "\n",
    "df_noisy.iloc[:,-1] = y_noisy\n",
    "# apply the ENN filter\n",
    "filter = ENN(df_noisy)\n",
    "# get a boolean array with True (an instance is noisy) and False (an instance is clean)\n",
    "clean_list = filter.noise_index()\n",
    "# get the clean dataset \n",
    "clean_df = filter.clean_samples()\n",
    "\n",
    "# assess th performance of the filter\n",
    "noisy = y == y_noisy\n",
    "acc = (noisy == clean_list).sum() / len(clean_list)\n",
    "print(\"The ENN filter has accuracy of {} on the Iris dataset with 20% of noise.\".format(round(acc, 3)))"
   ]
  },
  {
   "cell_type": "code",
   "execution_count": null,
   "id": "e267e74a-8835-4338-973d-abfb7ba8cff6",
   "metadata": {},
   "outputs": [],
   "source": []
  }
 ],
 "metadata": {
  "kernelspec": {
   "display_name": "Python 3 (ipykernel)",
   "language": "python",
   "name": "python3"
  },
  "language_info": {
   "codemirror_mode": {
    "name": "ipython",
    "version": 3
   },
   "file_extension": ".py",
   "mimetype": "text/x-python",
   "name": "python",
   "nbconvert_exporter": "python",
   "pygments_lexer": "ipython3",
   "version": "3.11.6"
  }
 },
 "nbformat": 4,
 "nbformat_minor": 5
}
