{
 "cells": [
  {
   "cell_type": "code",
   "execution_count": 1,
   "id": "3b9a8cf9-3115-4110-8324-8c22e22b5160",
   "metadata": {},
   "outputs": [],
   "source": [
    "import abc\n",
    "import dataclasses\n",
    "import pandas as pd\n",
    "\n",
    "from sklearn.neighbors import KNeighborsClassifier\n",
    "import random \n",
    "import numpy as np\n",
    "\n",
    "from numpy.typing import NDArray\n",
    "FArray = NDArray[np.float64]\n",
    "import sys\n",
    "\n",
    "sys.path.append('scripts/')\n",
    "from utils import add_random_noise\n",
    "\n",
    "\n",
    "sys.path.append('scripts/filters/')\n",
    "from ENN import ENN\n"
   ]
  },
  {
   "cell_type": "code",
   "execution_count": 2,
   "id": "189dd911-b9d0-4150-8a3a-7bc97b66c3d6",
   "metadata": {},
   "outputs": [],
   "source": [
    "\n",
    "\n",
    "def get_data(df):\n",
    "    X = df.iloc[:,:-1]\n",
    "    y = df.iloc[:,-1]\n",
    "    return X, y"
   ]
  },
  {
   "cell_type": "code",
   "execution_count": null,
   "id": "98d13b92-0fe8-494e-a28b-ae8efc604a65",
   "metadata": {},
   "outputs": [],
   "source": []
  },
  {
   "cell_type": "code",
   "execution_count": null,
   "id": "29252e90-52e7-4a27-8a01-6fe52403201d",
   "metadata": {},
   "outputs": [],
   "source": []
  },
  {
   "cell_type": "code",
   "execution_count": 9,
   "id": "2643fbf5-4a17-4956-a68d-f8b83fdb7681",
   "metadata": {},
   "outputs": [
    {
     "name": "stdout",
     "output_type": "stream",
     "text": [
      "The ENN filter has accuracy of 0.927\n"
     ]
    }
   ],
   "source": [
    "def test_ENN(noise_level = 0.2):\n",
    "    df = pd.read_csv('https://raw.githubusercontent.com/mwaskom/seaborn-data/master/iris.csv')\n",
    "    X, y = get_data(df)\n",
    "    y_noisy = add_random_noise(y,noise_level = noise_level)\n",
    "    \n",
    "    df_noisy = df.copy()\n",
    "    df_noisy.iloc[:,-1] = y_noisy\n",
    "    enn = ENN(df_noisy)\n",
    "    clean_list = enn.noise_index()\n",
    "    \n",
    "    noisy = y == y_noisy\n",
    "    acc = (noisy == clean_list).sum()/len(clean_list)\n",
    "    print('The ENN filter has accuracy of {}'.format(round(acc,3)))\n",
    "\n",
    "if __name__ == \"__main__\":\n",
    "    test_ENN()"
   ]
  },
  {
   "cell_type": "code",
   "execution_count": null,
   "id": "decb7b35-90fe-4952-807e-8260734fd1ce",
   "metadata": {},
   "outputs": [],
   "source": []
  }
 ],
 "metadata": {
  "kernelspec": {
   "display_name": "Python 3 (ipykernel)",
   "language": "python",
   "name": "python3"
  },
  "language_info": {
   "codemirror_mode": {
    "name": "ipython",
    "version": 3
   },
   "file_extension": ".py",
   "mimetype": "text/x-python",
   "name": "python",
   "nbconvert_exporter": "python",
   "pygments_lexer": "ipython3",
   "version": "3.11.6"
  }
 },
 "nbformat": 4,
 "nbformat_minor": 5
}
