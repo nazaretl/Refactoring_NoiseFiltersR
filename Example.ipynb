{
 "cells": [
  {
   "cell_type": "code",
   "execution_count": 20,
   "id": "3b9a8cf9-3115-4110-8324-8c22e22b5160",
   "metadata": {},
   "outputs": [],
   "source": [
    "import abc\n",
    "import dataclasses\n",
    "import pandas as pd\n",
    "\n",
    "from sklearn.neighbors import KNeighborsClassifier\n",
    "import random \n",
    "import numpy as np\n",
    "\n",
    "from numpy.typing import NDArray\n",
    "FArray = NDArray[np.float64]\n",
    "import sys\n",
    "\n",
    "sys.path.append('scripts/')\n",
    "from utils import add_random_noise, get_values_labels, load_data\n",
    "\n",
    "\n",
    "sys.path.append('scripts/filters/')\n",
    "from ENN import ENN\n",
    "\n",
    "from sklearn.datasets import load_iris, load_diabetes, load_linnerud, load_wine, load_breast_cancer"
   ]
  },
  {
   "cell_type": "code",
   "execution_count": null,
   "id": "29252e90-52e7-4a27-8a01-6fe52403201d",
   "metadata": {},
   "outputs": [],
   "source": []
  },
  {
   "cell_type": "code",
   "execution_count": 23,
   "id": "2643fbf5-4a17-4956-a68d-f8b83fdb7681",
   "metadata": {},
   "outputs": [
    {
     "name": "stdout",
     "output_type": "stream",
     "text": [
      "The ENN filter has accuracy of 0.907\n"
     ]
    }
   ],
   "source": [
    "df = pd.read_csv('https://raw.githubusercontent.com/mwaskom/seaborn-data/master/iris.csv')\n",
    "noise_level = 0.2\n",
    "\n",
    "X, y = get_values_labels(df)\n",
    "y_noisy = add_random_noise(y,noise_level = noise_level)\n",
    "df_noisy = df.copy()\n",
    "df_noisy.iloc[:,-1] = y_noisy\n",
    "filter = ENN(df_noisy)\n",
    "clean_list = filter.noise_index()\n",
    "\n",
    "noisy = y == y_noisy\n",
    "print('The ENN filter has accuracy of {}'.format(round(accuracy,3)))\n"
   ]
  },
  {
   "cell_type": "code",
   "execution_count": null,
   "id": "cfb1d99a-79e8-49a6-ab44-0fa92b71718e",
   "metadata": {},
   "outputs": [],
   "source": []
  }
 ],
 "metadata": {
  "kernelspec": {
   "display_name": "Python 3 (ipykernel)",
   "language": "python",
   "name": "python3"
  },
  "language_info": {
   "codemirror_mode": {
    "name": "ipython",
    "version": 3
   },
   "file_extension": ".py",
   "mimetype": "text/x-python",
   "name": "python",
   "nbconvert_exporter": "python",
   "pygments_lexer": "ipython3",
   "version": "3.11.6"
  }
 },
 "nbformat": 4,
 "nbformat_minor": 5
}
