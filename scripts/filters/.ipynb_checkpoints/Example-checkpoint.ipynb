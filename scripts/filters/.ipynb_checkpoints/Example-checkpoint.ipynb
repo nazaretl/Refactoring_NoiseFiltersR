{
 "cells": [
  {
   "cell_type": "code",
   "execution_count": 6,
   "id": "73fef322",
   "metadata": {},
   "outputs": [],
   "source": [
    "import pandas as pd\n",
    "import pandas as pd\n",
    "import numpy as np\n",
    "from sklearn.neighbors import KNeighborsClassifier\n",
    "import random \n",
    "#from sklearn import datasets\n",
    "#iris = datasets.load_iris()"
   ]
  },
  {
   "cell_type": "code",
   "execution_count": 7,
   "id": "ff7f8f84",
   "metadata": {},
   "outputs": [],
   "source": [
    "def getData(df):\n",
    "    X = df.iloc[:,:-1]\n",
    "    y = df.iloc[:,-1]\n",
    "    return X, y\n",
    "\n",
    "\n",
    "def add_random_noise(y,noise_level = 0.2):\n",
    "\n",
    "    labels = list(pd.unique(y))\n",
    "    n = len(y)\n",
    "    n_noisy = round(n * noise_level)\n",
    "    idx_noisy = random.sample(range(n),n_noisy)\n",
    "    y_noisy = y.copy()\n",
    "    for idx in idx_noisy:\n",
    "        clean_label = y[idx]\n",
    "        labels = list(pd.unique(y))\n",
    "        labels.remove(clean_label)\n",
    "        noisy_label = random.choice(labels)\n",
    "        y_noisy.iloc[idx] = noisy_label\n",
    "\n",
    "    return y_noisy"
   ]
  },
  {
   "cell_type": "code",
   "execution_count": 3,
   "id": "2eee801b",
   "metadata": {},
   "outputs": [],
   "source": [
    "# original filter https://rdrr.io/cran/NoiseFiltersR/src/R/ENN.R\n",
    "def ENN(df, n_neighbors = 5):\n",
    "    \"\"\"\n",
    "    A filter that finds n neibhours for each datapoint and drops the datapoint (FALSE in the clean_list) \n",
    "    if the majority of the neibhors has a different label\n",
    "    Returns a boolean list with TRUE for clean and FALSE for noisy data point\n",
    "    \"\"\"\n",
    "    X, y = getData(df)\n",
    "    N = len(df)\n",
    "    clean_list = []\n",
    "\n",
    "    knn = KNeighborsClassifier(n_neighbors=n_neighbors)\n",
    "    knn.fit(X.values, y.values)\n",
    "    for i in range(N):\n",
    "        own_label = y[i]\n",
    "        neighbors_idx = knn.kneighbors(X.iloc[i,:].values.reshape(1, -1), return_distance=False)\n",
    "        neighbor_labels = y.values[neighbors_idx][0]\n",
    "        values, counts = np.unique(neighbor_labels, return_counts=True)\n",
    "        most_frequent_label = values[counts == counts.max()]\n",
    "        clean_list.append([most_frequent_label == own_label][0][0])\n",
    "\n",
    "    #clean_samples =  df[clean_list]\n",
    "    #noisy_samples = df[np.invert(clean_list)]\n",
    "    return clean_list\n",
    "\n",
    "\n",
    "\n"
   ]
  },
  {
   "cell_type": "code",
   "execution_count": 16,
   "id": "b2f038c0-6c5d-4654-b363-94fcdb611999",
   "metadata": {},
   "outputs": [
    {
     "name": "stdout",
     "output_type": "stream",
     "text": [
      "The ENN filter has accuracy of 0.96\n"
     ]
    }
   ],
   "source": [
    "# Load the iris dataset into a Pandas DataFrame\n",
    "df = pd.read_csv('https://raw.githubusercontent.com/mwaskom/seaborn-data/master/iris.csv')\n",
    "\n",
    "X, y = getData(df)\n",
    "y_noisy = add_random_noise(y,noise_level = 0.2)\n",
    "\n",
    "df_noisy = df.copy()\n",
    "df_noisy.iloc[:,-1] = y_noisy\n",
    "\n",
    "clean_list = ENN(df_noisy, n_neighbors = 5)\n",
    "\n",
    "noisy = y == y_noisy\n",
    "acc = (noisy == clean_list).sum()/len(clean_list)\n",
    "print('The ENN filter has accuracy of {}'.format(round(acc,3)))"
   ]
  },
  {
   "cell_type": "code",
   "execution_count": null,
   "id": "486798f5-ec1e-48a6-9042-fb38a79decd2",
   "metadata": {},
   "outputs": [],
   "source": []
  },
  {
   "cell_type": "code",
   "execution_count": null,
   "id": "08b8d54d-0f75-4b4c-99dc-889ed7d445a1",
   "metadata": {},
   "outputs": [],
   "source": []
  }
 ],
 "metadata": {
  "kernelspec": {
   "display_name": "Python 3 (ipykernel)",
   "language": "python",
   "name": "python3"
  },
  "language_info": {
   "codemirror_mode": {
    "name": "ipython",
    "version": 3
   },
   "file_extension": ".py",
   "mimetype": "text/x-python",
   "name": "python",
   "nbconvert_exporter": "python",
   "pygments_lexer": "ipython3",
   "version": "3.9.18"
  }
 },
 "nbformat": 4,
 "nbformat_minor": 5
}
