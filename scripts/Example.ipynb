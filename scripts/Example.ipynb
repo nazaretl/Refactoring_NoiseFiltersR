{
 "cells": [
  {
   "cell_type": "code",
   "execution_count": 1,
   "id": "3b9a8cf9-3115-4110-8324-8c22e22b5160",
   "metadata": {},
   "outputs": [],
   "source": [
    "import abc\n",
    "import dataclasses\n",
    "import pandas as pd\n",
    "\n",
    "from sklearn.neighbors import KNeighborsClassifier\n",
    "import random \n",
    "import numpy as np\n",
    "\n",
    "from numpy.typing import NDArray\n",
    "FArray = NDArray[np.float64]\n",
    "\n",
    "from utils import add_random_noise\n",
    "\n",
    "\n",
    "import sys\n",
    "sys.path.append('filters/')\n",
    "from ENN import ENN\n"
   ]
  },
  {
   "cell_type": "code",
   "execution_count": 2,
   "id": "189dd911-b9d0-4150-8a3a-7bc97b66c3d6",
   "metadata": {},
   "outputs": [],
   "source": [
    "\n",
    "\n",
    "def get_data(df):\n",
    "    X = df.iloc[:,:-1]\n",
    "    y = df.iloc[:,-1]\n",
    "    return X, y"
   ]
  },
  {
   "cell_type": "code",
   "execution_count": null,
   "id": "98d13b92-0fe8-494e-a28b-ae8efc604a65",
   "metadata": {},
   "outputs": [],
   "source": []
  },
  {
   "cell_type": "code",
   "execution_count": null,
   "id": "29252e90-52e7-4a27-8a01-6fe52403201d",
   "metadata": {},
   "outputs": [],
   "source": []
  },
  {
   "cell_type": "code",
   "execution_count": 3,
   "id": "7969a992-1194-4759-bbb3-dc2861ec9c6c",
   "metadata": {},
   "outputs": [
    {
     "ename": "NameError",
     "evalue": "name 'y' is not defined",
     "output_type": "error",
     "traceback": [
      "\u001b[0;31m---------------------------------------------------------------------------\u001b[0m",
      "\u001b[0;31mNameError\u001b[0m                                 Traceback (most recent call last)",
      "Cell \u001b[0;32mIn[3], line 5\u001b[0m\n\u001b[1;32m      2\u001b[0m df \u001b[38;5;241m=\u001b[39m pd\u001b[38;5;241m.\u001b[39mread_csv(\u001b[38;5;124m'\u001b[39m\u001b[38;5;124mhttps://raw.githubusercontent.com/mwaskom/seaborn-data/master/iris.csv\u001b[39m\u001b[38;5;124m'\u001b[39m)\n\u001b[1;32m      4\u001b[0m X, y \u001b[38;5;241m=\u001b[39m get_data(df)\n\u001b[0;32m----> 5\u001b[0m y_noisy \u001b[38;5;241m=\u001b[39m \u001b[43madd_random_noise\u001b[49m\u001b[43m(\u001b[49m\u001b[43my\u001b[49m\u001b[43m,\u001b[49m\u001b[43mnoise_level\u001b[49m\u001b[43m \u001b[49m\u001b[38;5;241;43m=\u001b[39;49m\u001b[43m \u001b[49m\u001b[38;5;241;43m0.2\u001b[39;49m\u001b[43m)\u001b[49m\n\u001b[1;32m      7\u001b[0m df_noisy \u001b[38;5;241m=\u001b[39m df\u001b[38;5;241m.\u001b[39mcopy()\n\u001b[1;32m      8\u001b[0m df_noisy\u001b[38;5;241m.\u001b[39miloc[:,\u001b[38;5;241m-\u001b[39m\u001b[38;5;241m1\u001b[39m] \u001b[38;5;241m=\u001b[39m y_noisy\n",
      "File \u001b[0;32m/mnt/c/Users/user/Documents/Princeton_Homeworks/Refactoring_NoiseFiltersR/scripts/utils.py:6\u001b[0m, in \u001b[0;36madd_random_noise\u001b[0;34m(labels, noise_level)\u001b[0m\n\u001b[1;32m      4\u001b[0m \u001b[38;5;28;01mdef\u001b[39;00m \u001b[38;5;21madd_random_noise\u001b[39m(labels, noise_level \u001b[38;5;241m=\u001b[39m \u001b[38;5;241m0.2\u001b[39m):\n\u001b[0;32m----> 6\u001b[0m         labels \u001b[38;5;241m=\u001b[39m \u001b[38;5;28mlist\u001b[39m(pd\u001b[38;5;241m.\u001b[39munique(\u001b[43my\u001b[49m))\n\u001b[1;32m      7\u001b[0m         n \u001b[38;5;241m=\u001b[39m \u001b[38;5;28mlen\u001b[39m(y)\n\u001b[1;32m      8\u001b[0m         n_noisy \u001b[38;5;241m=\u001b[39m \u001b[38;5;28mround\u001b[39m(n \u001b[38;5;241m*\u001b[39m noise_level)\n",
      "\u001b[0;31mNameError\u001b[0m: name 'y' is not defined"
     ]
    }
   ],
   "source": [
    "# Load the iris dataset into a Pandas DataFrame\n",
    "df = pd.read_csv('https://raw.githubusercontent.com/mwaskom/seaborn-data/master/iris.csv')\n",
    "\n",
    "X, y = get_data(df)\n",
    "y_noisy = add_random_noise(y,noise_level = 0.2)\n",
    "\n",
    "df_noisy = df.copy()\n",
    "df_noisy.iloc[:,-1] = y_noisy\n",
    "\n",
    "f = ENN()\n",
    "\n",
    "\n",
    "clean_list = f.noise_index()\n",
    "\n",
    "noisy = y == y_noisy\n",
    "acc = (noisy == clean_list).sum()/len(clean_list)\n",
    "print('The ENN filter has accuracy of {}'.format(round(acc,3)))"
   ]
  },
  {
   "cell_type": "code",
   "execution_count": null,
   "id": "2643fbf5-4a17-4956-a68d-f8b83fdb7681",
   "metadata": {},
   "outputs": [],
   "source": []
  }
 ],
 "metadata": {
  "kernelspec": {
   "display_name": "Python 3 (ipykernel)",
   "language": "python",
   "name": "python3"
  },
  "language_info": {
   "codemirror_mode": {
    "name": "ipython",
    "version": 3
   },
   "file_extension": ".py",
   "mimetype": "text/x-python",
   "name": "python",
   "nbconvert_exporter": "python",
   "pygments_lexer": "ipython3",
   "version": "3.11.6"
  }
 },
 "nbformat": 4,
 "nbformat_minor": 5
}
